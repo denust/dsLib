{
 "cells": [
  {
   "cell_type": "code",
   "execution_count": 1,
   "metadata": {
    "collapsed": true
   },
   "outputs": [],
   "source": [
    "import psycopg2\n",
    "import pandas as pd\n",
    "import getpass\n",
    "from time import strftime"
   ]
  },
  {
   "cell_type": "code",
   "execution_count": 2,
   "metadata": {
    "collapsed": true
   },
   "outputs": [],
   "source": [
    "def connect_to_db():\n",
    "    username = input('State your name cuz ')\n",
    "    password = getpass.getpass('What we doing today? ')\n",
    "    conn = psycopg2.connect(f\"dbname=duck \\\n",
    "                        user = {username} \\\n",
    "                        password = {password} \\\n",
    "                        host = duckdb.ccyc8kurysq2.us-east-2.rds.amazonaws.com\")\n",
    "    cursor = conn.cursor()\n",
    "    return cursor,conn\n",
    "#maybe we should wrap all this functions into a class? so that we dont have to call cursor/conn every fucking\n",
    "\n",
    "\n",
    "\n",
    "# Need to add primary keys and autoincrementing shit later maybe\n",
    "def make_articles_table(cursor,conn):\n",
    "    query = \"\"\"CREATE TABLE articles_all (\n",
    "    article_id varchar(255),\n",
    "    article_body text,\n",
    "    upload_date varchar(255),\n",
    "    author varchar(255)\n",
    "    );\"\"\"\n",
    "    cursor.execute(query)\n",
    "    conn.commit()\n",
    "    \n",
    "def drop_articles_table(cursor,conn):\n",
    "    query = \"\"\"DROP TABLE articles_all\"\"\"\n",
    "    cursor.execute(query)\n",
    "    conn.commit()\n",
    "    \n",
    "def show_tables(cursor,conn):\n",
    "    query = \"\"\"SELECT table_catalog,table_schema,table_name,table_type\n",
    "    FROM INFORMATION_SCHEMA.TABLES WHERE table_schema='public'\"\"\"\n",
    "    cursor.execute(query)\n",
    "    results = cursor.fetchall()\n",
    "    colnames = [desc[0] for desc in cursor.description]\n",
    "    conn.commit()\n",
    "    return pd.DataFrame(data = results, columns = colnames)\n",
    "\n",
    "def add_article(cursor,conn,article_id,article_body,author):\n",
    "    upload_date = strftime(\"%d/%m/%y %H:%M:%S\")\n",
    "    # replacing ' with `, need better solution\n",
    "    values = tuple([article_id,article_body.replace(\"'\",\"`\"),upload_date,author])  \n",
    "    query = f\"\"\"INSERT INTO articles_all VALUES {values}\"\"\"\n",
    "    cursor.execute(query)\n",
    "    conn.commit()\n",
    "    \n",
    "def find_article(cursor,conn,article_id):\n",
    "    query = f\"\"\"SELECT * FROM articles_all where article_id = '{article_id}'\"\"\"\n",
    "    cursor.execute(query)\n",
    "    conn.commit()\n",
    "    result = cursor.fetchall()\n",
    "    if len(result) == 0:\n",
    "        return ['','nah nuthin ere m8']\n",
    "    else:\n",
    "        return result[0]\n",
    "    \n"
   ]
  },
  {
   "cell_type": "code",
   "execution_count": 4,
   "metadata": {},
   "outputs": [
    {
     "name": "stdout",
     "output_type": "stream",
     "text": [
      "State your name cuz deniss\n",
      "What we doing today? ········\n"
     ]
    }
   ],
   "source": [
    "cursor,conn = connect_to_db()"
   ]
  },
  {
   "cell_type": "code",
   "execution_count": 5,
   "metadata": {},
   "outputs": [
    {
     "data": {
      "text/html": [
       "<div>\n",
       "<style>\n",
       "    .dataframe thead tr:only-child th {\n",
       "        text-align: right;\n",
       "    }\n",
       "\n",
       "    .dataframe thead th {\n",
       "        text-align: left;\n",
       "    }\n",
       "\n",
       "    .dataframe tbody tr th {\n",
       "        vertical-align: top;\n",
       "    }\n",
       "</style>\n",
       "<table border=\"1\" class=\"dataframe\">\n",
       "  <thead>\n",
       "    <tr style=\"text-align: right;\">\n",
       "      <th></th>\n",
       "      <th>table_catalog</th>\n",
       "      <th>table_schema</th>\n",
       "      <th>table_name</th>\n",
       "      <th>table_type</th>\n",
       "    </tr>\n",
       "  </thead>\n",
       "  <tbody>\n",
       "    <tr>\n",
       "      <th>0</th>\n",
       "      <td>duck</td>\n",
       "      <td>public</td>\n",
       "      <td>articles_all</td>\n",
       "      <td>BASE TABLE</td>\n",
       "    </tr>\n",
       "  </tbody>\n",
       "</table>\n",
       "</div>"
      ],
      "text/plain": [
       "  table_catalog table_schema    table_name  table_type\n",
       "0          duck       public  articles_all  BASE TABLE"
      ]
     },
     "execution_count": 5,
     "metadata": {},
     "output_type": "execute_result"
    }
   ],
   "source": [
    "drop_articles_table(cursor,conn)\n",
    "make_articles_table(cursor,conn)\n",
    "show_tables(cursor,conn)"
   ]
  },
  {
   "cell_type": "code",
   "execution_count": 174,
   "metadata": {
    "collapsed": true
   },
   "outputs": [],
   "source": [
    "add_article(cursor,conn,421,'yo yo',\"mc den\")"
   ]
  },
  {
   "cell_type": "code",
   "execution_count": 167,
   "metadata": {
    "collapsed": true
   },
   "outputs": [],
   "source": [
    "find_article(cursor,conn,421)"
   ]
  },
  {
   "cell_type": "code",
   "execution_count": null,
   "metadata": {
    "collapsed": true
   },
   "outputs": [],
   "source": [
    "cursor.close()\n",
    "conn.close()"
   ]
  }
 ],
 "metadata": {
  "kernelspec": {
   "display_name": "Python 3",
   "language": "python",
   "name": "python3"
  },
  "language_info": {
   "codemirror_mode": {
    "name": "ipython",
    "version": 3
   },
   "file_extension": ".py",
   "mimetype": "text/x-python",
   "name": "python",
   "nbconvert_exporter": "python",
   "pygments_lexer": "ipython3",
   "version": "3.6.1"
  }
 },
 "nbformat": 4,
 "nbformat_minor": 2
}
